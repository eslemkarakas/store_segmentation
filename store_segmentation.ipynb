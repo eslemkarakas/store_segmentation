{
 "cells": [
  {
   "cell_type": "markdown",
   "metadata": {},
   "source": [
    "<h3><font color='white'><b>CASE STUDY: Store Segmentation</b></font></h3>"
   ]
  },
  {
   "cell_type": "markdown",
   "metadata": {},
   "source": [
    "<h3><font color='yellow'><b>Setting Up Environment</b></font></h3>"
   ]
  },
  {
   "cell_type": "code",
   "execution_count": 1,
   "metadata": {},
   "outputs": [],
   "source": [
    "# import packages\n",
    "import os\n",
    "import numpy as np\n",
    "import pandas as pd\n",
    "import seaborn as sns\n",
    "import matplotlib.pyplot as plt\n",
    "from scipy.stats import ttest_ind"
   ]
  },
  {
   "cell_type": "code",
   "execution_count": 2,
   "metadata": {},
   "outputs": [],
   "source": [
    "# set file parameters\n",
    "pd.set_option('display.float_format', lambda x: '%.4f' % x)"
   ]
  },
  {
   "cell_type": "markdown",
   "metadata": {},
   "source": [
    "<h3><font color='yellow'><b>Configuring Study Parameters</b></font></h3>"
   ]
  },
  {
   "cell_type": "code",
   "execution_count": 3,
   "metadata": {},
   "outputs": [],
   "source": [
    "# create config class\n",
    "class C:\n",
    "    CURRENT_DIRECTORY = os.getcwd()"
   ]
  },
  {
   "cell_type": "markdown",
   "metadata": {},
   "source": [
    "<h3><font color='yellow'><b>Defining Functions</b></font></h3>"
   ]
  },
  {
   "cell_type": "code",
   "execution_count": 4,
   "metadata": {},
   "outputs": [],
   "source": [
    "def alter_dtypes(df):\n",
    "    return df\n",
    "\n",
    "def calculate_memory_usage(df):\n",
    "    pass\n",
    "\n",
    "def correct_column_names(df):\n",
    "    df.columns = df.columns.str.lower()\n",
    "    df.columns = df.columns.str.replace(' ', '_')\n",
    "    return df\n",
    "\n",
    "def validate_primary_key(df):\n",
    "    n_entity = df.shape[0]\n",
    "    primary_key_columns = [column for column in df.columns if df[column].nunique() == n_entity]\n",
    "    print(f\"The primary key column(s) is/are: {', '.join(primary_key_columns)}\")\n",
    "            \n",
    "def demonstrate_basic_stats(df):\n",
    "    stats = f\"Shape: {df.shape}\\nMemory: {calculate_memory_usage(df)}GB\\nColumns: {list(df.columns)}\\nDtypes: {dict(df.dtypes)}\\n\"\n",
    "    print(stats)\n",
    "\n",
    "def perform_hypothesis_test(df, alpha, target_column, evaluated_column):\n",
    "\n",
    "    first_group = df[df[evaluated_column].notna()][target_column]\n",
    "    second_group = df[df[evaluated_column].isna()][target_column]\n",
    "\n",
    "    stat, p_value = ttest_ind(first_group, second_group, equal_var = False)\n",
    "\n",
    "    return p_value < alpha\n",
    "\n",
    "def drop_missing_columns(df, alpha, drop_rate, target_column, evaluated_column):\n",
    "    \n",
    "    columns_to_drop = []\n",
    "    missing_percentages = (df.isnull().sum() / df.shape[0]) * 100\n",
    "\n",
    "    for column in df.columns:\n",
    "        if missing_percentages[column] < drop_rate:\n",
    "            continue\n",
    "    \n",
    "        # perform hypothesis test\n",
    "        effect = perform_hypothesis_test(df, alpha, target_column, evaluated_column)\n",
    "\n",
    "        # append column into the list if it has a statistical effect\n",
    "        if effect:\n",
    "            columns_to_drop.append(column)\n",
    "    \n",
    "    df = df.drop(columns=columns_to_drop)\n",
    "\n",
    "    return df"
   ]
  },
  {
   "cell_type": "markdown",
   "metadata": {},
   "source": [
    "<h3><font color='yellow'><b>Loading Datasets</b></font></h3>"
   ]
  },
  {
   "cell_type": "code",
   "execution_count": 5,
   "metadata": {},
   "outputs": [],
   "source": [
    "# define filepath\n",
    "filepath = C.CURRENT_DIRECTORY + '\\\\datasets\\\\unilever.xlsx'\n",
    "\n",
    "# read datasets\n",
    "unilever_sales_transaction = pd.read_excel(filepath, sheet_name = 'Sales Transaction')\n",
    "unilever_customer_information = pd.read_excel(filepath, sheet_name = 'Customer Information')\n",
    "unilever_visit_transaction = pd.read_excel(filepath, sheet_name = 'Visit Transaction')\n",
    "\n",
    "# copy datasets\n",
    "df_st = unilever_sales_transaction.copy()\n",
    "df_ci = unilever_customer_information.copy()\n",
    "df_vt = unilever_visit_transaction.copy()"
   ]
  },
  {
   "cell_type": "code",
   "execution_count": 6,
   "metadata": {},
   "outputs": [],
   "source": [
    "# optimize memory usage of datasets\n",
    "df_st, df_ci, df_vt = alter_dtypes(df_st), alter_dtypes(df_ci), alter_dtypes(df_vt)"
   ]
  },
  {
   "cell_type": "code",
   "execution_count": 7,
   "metadata": {},
   "outputs": [],
   "source": [
    "# correct column names\n",
    "df_st, df_ci, df_vt = correct_column_names(df_st), correct_column_names(df_ci), correct_column_names(df_vt)"
   ]
  },
  {
   "cell_type": "code",
   "execution_count": 8,
   "metadata": {},
   "outputs": [],
   "source": [
    "# format datetime before passing data understanding phase\n",
    "df_st['transaction_date'] =pd.to_datetime(df_st['transaction_date'])"
   ]
  },
  {
   "cell_type": "markdown",
   "metadata": {},
   "source": [
    "<h3><font color='yellow'><b>Demonstrating Basic Statistics</b></font></h3>"
   ]
  },
  {
   "cell_type": "code",
   "execution_count": 9,
   "metadata": {},
   "outputs": [
    {
     "name": "stdout",
     "output_type": "stream",
     "text": [
      "Shape: (19811, 9)\n",
      "Memory: NoneGB\n",
      "Columns: ['customerid', 'transaction_date', 'categoryid', 'brandid', 'productgroupid', 'productid', 'sales_amount', 'unit_price', 'sales_value']\n",
      "Dtypes: {'customerid': dtype('int64'), 'transaction_date': dtype('<M8[ns]'), 'categoryid': dtype('O'), 'brandid': dtype('O'), 'productgroupid': dtype('O'), 'productid': dtype('O'), 'sales_amount': dtype('int64'), 'unit_price': dtype('float64'), 'sales_value': dtype('float64')}\n",
      "\n"
     ]
    }
   ],
   "source": [
    "demonstrate_basic_stats(df_st)"
   ]
  },
  {
   "cell_type": "code",
   "execution_count": 10,
   "metadata": {},
   "outputs": [
    {
     "name": "stdout",
     "output_type": "stream",
     "text": [
      "Shape: (100, 29)\n",
      "Memory: NoneGB\n",
      "Columns: ['customerid', 'is_there_a_competitor_cabinet', 'number_of_cabinets', 'distributor_name', 'store_m2_', 'educational_instutition(#)', 'transportation_points(#)', 'discounter_market(#)', 'national_market(#)', 'avg_of_ages', 'population_age_between_(0-14)', 'population_age_between_(15-24)', 'population_age_between_(25-34)', 'population_age_between_(35-44)', 'population_age_between_(45-54)', 'population_age_between(55-64)', 'population_age_between_(65+)', 'income_level_1_(#)', 'income_level_2_(#)', 'income_level_3_(#)', 'income_level_4_(#)', 'income_level_5_(#)', 'income_level_6_(#)', 'avg_income_level_(lower_is_higher)', 'elementary_degree_(#)', 'high_school_degree_(#)', 'university_degree_(#)', 'high_school_or_higher_degrees_(#)', 'avg_year_of_education_(year)']\n",
      "Dtypes: {'customerid': dtype('int64'), 'is_there_a_competitor_cabinet': dtype('O'), 'number_of_cabinets': dtype('int64'), 'distributor_name': dtype('O'), 'store_m2_': dtype('int64'), 'educational_instutition(#)': dtype('int64'), 'transportation_points(#)': dtype('int64'), 'discounter_market(#)': dtype('int64'), 'national_market(#)': dtype('int64'), 'avg_of_ages': dtype('int64'), 'population_age_between_(0-14)': dtype('int64'), 'population_age_between_(15-24)': dtype('int64'), 'population_age_between_(25-34)': dtype('int64'), 'population_age_between_(35-44)': dtype('int64'), 'population_age_between_(45-54)': dtype('int64'), 'population_age_between(55-64)': dtype('int64'), 'population_age_between_(65+)': dtype('int64'), 'income_level_1_(#)': dtype('int64'), 'income_level_2_(#)': dtype('int64'), 'income_level_3_(#)': dtype('int64'), 'income_level_4_(#)': dtype('int64'), 'income_level_5_(#)': dtype('int64'), 'income_level_6_(#)': dtype('int64'), 'avg_income_level_(lower_is_higher)': dtype('int64'), 'elementary_degree_(#)': dtype('int64'), 'high_school_degree_(#)': dtype('int64'), 'university_degree_(#)': dtype('int64'), 'high_school_or_higher_degrees_(#)': dtype('int64'), 'avg_year_of_education_(year)': dtype('int64')}\n",
      "\n"
     ]
    }
   ],
   "source": [
    "demonstrate_basic_stats(df_ci)"
   ]
  },
  {
   "cell_type": "code",
   "execution_count": 11,
   "metadata": {},
   "outputs": [
    {
     "name": "stdout",
     "output_type": "stream",
     "text": [
      "Shape: (3070, 2)\n",
      "Memory: NoneGB\n",
      "Columns: ['customerid', 'date']\n",
      "Dtypes: {'customerid': dtype('int64'), 'date': dtype('<M8[ns]')}\n",
      "\n"
     ]
    }
   ],
   "source": [
    "demonstrate_basic_stats(df_vt)"
   ]
  },
  {
   "cell_type": "markdown",
   "metadata": {},
   "source": [
    "<h3><font color='yellow'><b>Identify Primary Keys</b></font></h3>"
   ]
  },
  {
   "cell_type": "code",
   "execution_count": 12,
   "metadata": {},
   "outputs": [
    {
     "name": "stdout",
     "output_type": "stream",
     "text": [
      "The primary key column(s) is/are: \n"
     ]
    }
   ],
   "source": [
    "validate_primary_key(df_st)"
   ]
  },
  {
   "cell_type": "code",
   "execution_count": 13,
   "metadata": {},
   "outputs": [
    {
     "name": "stdout",
     "output_type": "stream",
     "text": [
      "The primary key column(s) is/are: customerid\n"
     ]
    }
   ],
   "source": [
    "validate_primary_key(df_ci)"
   ]
  },
  {
   "cell_type": "code",
   "execution_count": 14,
   "metadata": {},
   "outputs": [
    {
     "name": "stdout",
     "output_type": "stream",
     "text": [
      "The primary key column(s) is/are: \n"
     ]
    }
   ],
   "source": [
    "validate_primary_key(df_vt)"
   ]
  },
  {
   "cell_type": "markdown",
   "metadata": {},
   "source": [
    "<h3><font color='yellow'><b>Data Understanding</b></font></h3>"
   ]
  },
  {
   "cell_type": "markdown",
   "metadata": {},
   "source": [
    "<h3><font color='gray'><b>customerid</b></font></h3>"
   ]
  },
  {
   "cell_type": "code",
   "execution_count": 15,
   "metadata": {},
   "outputs": [
    {
     "data": {
      "text/plain": [
       "(95, 100, 99)"
      ]
     },
     "execution_count": 15,
     "metadata": {},
     "output_type": "execute_result"
    }
   ],
   "source": [
    "df_st.customerid.nunique(), df_ci.customerid.nunique(), df_vt.customerid.nunique()"
   ]
  },
  {
   "cell_type": "code",
   "execution_count": 16,
   "metadata": {},
   "outputs": [
    {
     "data": {
      "text/plain": [
       "(19811, 100, 3070)"
      ]
     },
     "execution_count": 16,
     "metadata": {},
     "output_type": "execute_result"
    }
   ],
   "source": [
    "df_st.customerid.shape[0], df_ci.customerid.shape[0], df_vt.customerid.shape[0] # customerid is primary key for df_ci"
   ]
  },
  {
   "cell_type": "code",
   "execution_count": 17,
   "metadata": {},
   "outputs": [
    {
     "data": {
      "text/plain": [
       "100"
      ]
     },
     "execution_count": 17,
     "metadata": {},
     "output_type": "execute_result"
    }
   ],
   "source": [
    "# check there is any customer that has no information\n",
    "len(set(df_ci.customerid.unique()) | set(df_st.customerid.unique()) | set(df_st.customerid.unique())) # validated that every customer has information"
   ]
  },
  {
   "cell_type": "code",
   "execution_count": 18,
   "metadata": {},
   "outputs": [
    {
     "data": {
      "text/plain": [
       "{4, 10, 16, 50, 74}"
      ]
     },
     "execution_count": 18,
     "metadata": {},
     "output_type": "execute_result"
    }
   ],
   "source": [
    "# find customers that have no sales transactions\n",
    "no_st_customers = set(df_ci.customerid.unique()) - set(df_st.customerid.unique())\n",
    "no_st_customers"
   ]
  },
  {
   "cell_type": "code",
   "execution_count": 19,
   "metadata": {},
   "outputs": [
    {
     "data": {
      "text/plain": [
       "{8}"
      ]
     },
     "execution_count": 19,
     "metadata": {},
     "output_type": "execute_result"
    }
   ],
   "source": [
    "# find customers that have no visit transactions\n",
    "no_vt_customers = set(df_ci.customerid.unique()) - set(df_vt.customerid.unique())\n",
    "no_vt_customers"
   ]
  },
  {
   "cell_type": "code",
   "execution_count": 20,
   "metadata": {},
   "outputs": [
    {
     "data": {
      "text/plain": [
       "{4, 10, 16, 50, 74}"
      ]
     },
     "execution_count": 20,
     "metadata": {},
     "output_type": "execute_result"
    }
   ],
   "source": [
    "# tbd\n",
    "set(df_vt.customerid.unique()) - set(df_st.customerid.unique())"
   ]
  },
  {
   "cell_type": "code",
   "execution_count": 21,
   "metadata": {},
   "outputs": [
    {
     "data": {
      "text/plain": [
       "{8}"
      ]
     },
     "execution_count": 21,
     "metadata": {},
     "output_type": "execute_result"
    }
   ],
   "source": [
    "# tbd\n",
    "set(df_st.customerid.unique()) - set(df_vt.customerid.unique())"
   ]
  },
  {
   "cell_type": "markdown",
   "metadata": {},
   "source": [
    "<h3><font color='gray'><b>number_of_cabinets</b></font></h3>"
   ]
  },
  {
   "cell_type": "code",
   "execution_count": 22,
   "metadata": {},
   "outputs": [
    {
     "data": {
      "text/plain": [
       "(1, 4, 2.19)"
      ]
     },
     "execution_count": 22,
     "metadata": {},
     "output_type": "execute_result"
    }
   ],
   "source": [
    "df_ci.number_of_cabinets.min(), df_ci.number_of_cabinets.max(), df_ci.number_of_cabinets.mean()"
   ]
  },
  {
   "cell_type": "code",
   "execution_count": 23,
   "metadata": {},
   "outputs": [
    {
     "data": {
      "image/png": "[encoded data removed]",
      "text/plain": [
       "<Figure size 640x480 with 1 Axes>"
      ]
     },
     "metadata": {},
     "output_type": "display_data"
    }
   ],
   "source": [
    "df_ci.number_of_cabinets.value_counts().sort_values(ascending=False).plot(kind='bar');"
   ]
  },
  {
   "cell_type": "markdown",
   "metadata": {},
   "source": [
    "<h3><font color='gray'><b>is_there_a_competitor_cabinet</b></font></h3>"
   ]
  },
  {
   "cell_type": "code",
   "execution_count": 24,
   "metadata": {},
   "outputs": [
    {
     "data": {
      "text/plain": [
       "is_there_a_competitor_cabinet\n",
       "N    86\n",
       "Y    14\n",
       "Name: count, dtype: int64"
      ]
     },
     "execution_count": 24,
     "metadata": {},
     "output_type": "execute_result"
    }
   ],
   "source": [
    "df_ci.is_there_a_competitor_cabinet.value_counts()"
   ]
  },
  {
   "cell_type": "code",
   "execution_count": 25,
   "metadata": {},
   "outputs": [
    {
     "data": {
      "text/plain": [
       "array([ 6, 22, 31, 34, 43, 52, 60, 65, 77, 79, 80, 82, 87, 88],\n",
       "      dtype=int64)"
      ]
     },
     "execution_count": 25,
     "metadata": {},
     "output_type": "execute_result"
    }
   ],
   "source": [
    "competitor_cabinet_owned_customers = df_ci[df_ci['is_there_a_competitor_cabinet'] == 'Y'].customerid.values\n",
    "competitor_cabinet_owned_customers"
   ]
  },
  {
   "cell_type": "code",
   "execution_count": 26,
   "metadata": {},
   "outputs": [
    {
     "data": {
      "text/html": [
       "<div>\n",
       "<style scoped>\n",
       "    .dataframe tbody tr th:only-of-type {\n",
       "        vertical-align: middle;\n",
       "    }\n",
       "\n",
       "    .dataframe tbody tr th {\n",
       "        vertical-align: top;\n",
       "    }\n",
       "\n",
       "    .dataframe thead tr th {\n",
       "        text-align: left;\n",
       "    }\n",
       "\n",
       "    .dataframe thead tr:last-of-type th {\n",
       "        text-align: right;\n",
       "    }\n",
       "</style>\n",
       "<table border=\"1\" class=\"dataframe\">\n",
       "  <thead>\n",
       "    <tr>\n",
       "      <th></th>\n",
       "      <th colspan=\"2\" halign=\"left\">sales_amount</th>\n",
       "      <th colspan=\"2\" halign=\"left\">unit_price</th>\n",
       "      <th colspan=\"2\" halign=\"left\">sales_value</th>\n",
       "    </tr>\n",
       "    <tr>\n",
       "      <th></th>\n",
       "      <th>sum</th>\n",
       "      <th>count</th>\n",
       "      <th>sum</th>\n",
       "      <th>count</th>\n",
       "      <th>sum</th>\n",
       "      <th>count</th>\n",
       "    </tr>\n",
       "    <tr>\n",
       "      <th>customerid</th>\n",
       "      <th></th>\n",
       "      <th></th>\n",
       "      <th></th>\n",
       "      <th></th>\n",
       "      <th></th>\n",
       "      <th></th>\n",
       "    </tr>\n",
       "  </thead>\n",
       "  <tbody>\n",
       "    <tr>\n",
       "      <th>6</th>\n",
       "      <td>12042</td>\n",
       "      <td>497</td>\n",
       "      <td>5236.4800</td>\n",
       "      <td>497</td>\n",
       "      <td>57077.0000</td>\n",
       "      <td>497</td>\n",
       "    </tr>\n",
       "    <tr>\n",
       "      <th>82</th>\n",
       "      <td>12574</td>\n",
       "      <td>506</td>\n",
       "      <td>5806.2800</td>\n",
       "      <td>506</td>\n",
       "      <td>52636.6700</td>\n",
       "      <td>506</td>\n",
       "    </tr>\n",
       "    <tr>\n",
       "      <th>60</th>\n",
       "      <td>12297</td>\n",
       "      <td>452</td>\n",
       "      <td>4970.1900</td>\n",
       "      <td>452</td>\n",
       "      <td>50167.0200</td>\n",
       "      <td>452</td>\n",
       "    </tr>\n",
       "    <tr>\n",
       "      <th>80</th>\n",
       "      <td>13956</td>\n",
       "      <td>575</td>\n",
       "      <td>4112.3100</td>\n",
       "      <td>575</td>\n",
       "      <td>39799.8900</td>\n",
       "      <td>575</td>\n",
       "    </tr>\n",
       "    <tr>\n",
       "      <th>65</th>\n",
       "      <td>10595</td>\n",
       "      <td>371</td>\n",
       "      <td>3388.9200</td>\n",
       "      <td>371</td>\n",
       "      <td>30105.8900</td>\n",
       "      <td>371</td>\n",
       "    </tr>\n",
       "    <tr>\n",
       "      <th>79</th>\n",
       "      <td>9323</td>\n",
       "      <td>231</td>\n",
       "      <td>2152.4300</td>\n",
       "      <td>231</td>\n",
       "      <td>26031.7500</td>\n",
       "      <td>231</td>\n",
       "    </tr>\n",
       "    <tr>\n",
       "      <th>31</th>\n",
       "      <td>9190</td>\n",
       "      <td>188</td>\n",
       "      <td>1064.8600</td>\n",
       "      <td>188</td>\n",
       "      <td>22038.3200</td>\n",
       "      <td>188</td>\n",
       "    </tr>\n",
       "    <tr>\n",
       "      <th>77</th>\n",
       "      <td>5386</td>\n",
       "      <td>186</td>\n",
       "      <td>1727.3300</td>\n",
       "      <td>186</td>\n",
       "      <td>20461.1800</td>\n",
       "      <td>186</td>\n",
       "    </tr>\n",
       "    <tr>\n",
       "      <th>43</th>\n",
       "      <td>9120</td>\n",
       "      <td>211</td>\n",
       "      <td>1249.4800</td>\n",
       "      <td>211</td>\n",
       "      <td>20214.5300</td>\n",
       "      <td>211</td>\n",
       "    </tr>\n",
       "    <tr>\n",
       "      <th>22</th>\n",
       "      <td>8398</td>\n",
       "      <td>128</td>\n",
       "      <td>907.2300</td>\n",
       "      <td>128</td>\n",
       "      <td>18552.3200</td>\n",
       "      <td>128</td>\n",
       "    </tr>\n",
       "    <tr>\n",
       "      <th>34</th>\n",
       "      <td>7573</td>\n",
       "      <td>139</td>\n",
       "      <td>1039.4100</td>\n",
       "      <td>139</td>\n",
       "      <td>18305.7000</td>\n",
       "      <td>139</td>\n",
       "    </tr>\n",
       "    <tr>\n",
       "      <th>87</th>\n",
       "      <td>9751</td>\n",
       "      <td>158</td>\n",
       "      <td>508.6900</td>\n",
       "      <td>158</td>\n",
       "      <td>16273.7100</td>\n",
       "      <td>158</td>\n",
       "    </tr>\n",
       "    <tr>\n",
       "      <th>88</th>\n",
       "      <td>4882</td>\n",
       "      <td>56</td>\n",
       "      <td>318.8100</td>\n",
       "      <td>56</td>\n",
       "      <td>10409.8800</td>\n",
       "      <td>56</td>\n",
       "    </tr>\n",
       "    <tr>\n",
       "      <th>52</th>\n",
       "      <td>4384</td>\n",
       "      <td>44</td>\n",
       "      <td>181.2600</td>\n",
       "      <td>44</td>\n",
       "      <td>4933.9200</td>\n",
       "      <td>44</td>\n",
       "    </tr>\n",
       "  </tbody>\n",
       "</table>\n",
       "</div>"
      ],
      "text/plain": [
       "           sales_amount       unit_price       sales_value      \n",
       "                    sum count        sum count         sum count\n",
       "customerid                                                      \n",
       "6                 12042   497  5236.4800   497  57077.0000   497\n",
       "82                12574   506  5806.2800   506  52636.6700   506\n",
       "60                12297   452  4970.1900   452  50167.0200   452\n",
       "80                13956   575  4112.3100   575  39799.8900   575\n",
       "65                10595   371  3388.9200   371  30105.8900   371\n",
       "79                 9323   231  2152.4300   231  26031.7500   231\n",
       "31                 9190   188  1064.8600   188  22038.3200   188\n",
       "77                 5386   186  1727.3300   186  20461.1800   186\n",
       "43                 9120   211  1249.4800   211  20214.5300   211\n",
       "22                 8398   128   907.2300   128  18552.3200   128\n",
       "34                 7573   139  1039.4100   139  18305.7000   139\n",
       "87                 9751   158   508.6900   158  16273.7100   158\n",
       "88                 4882    56   318.8100    56  10409.8800    56\n",
       "52                 4384    44   181.2600    44   4933.9200    44"
      ]
     },
     "execution_count": 26,
     "metadata": {},
     "output_type": "execute_result"
    }
   ],
   "source": [
    "df_st[df_st.customerid.isin(competitor_cabinet_owned_customers)][['customerid','sales_amount', 'unit_price', 'sales_value']].groupby(by='customerid')\\\n",
    "                                                                                                                            .agg(['sum','count'])\\\n",
    "                                                                                                                            .sort_values(by=('sales_value','sum'), ascending=False)"
   ]
  },
  {
   "cell_type": "code",
   "execution_count": 27,
   "metadata": {},
   "outputs": [
    {
     "data": {
      "text/html": [
       "<div>\n",
       "<style scoped>\n",
       "    .dataframe tbody tr th:only-of-type {\n",
       "        vertical-align: middle;\n",
       "    }\n",
       "\n",
       "    .dataframe tbody tr th {\n",
       "        vertical-align: top;\n",
       "    }\n",
       "\n",
       "    .dataframe thead tr th {\n",
       "        text-align: left;\n",
       "    }\n",
       "\n",
       "    .dataframe thead tr:last-of-type th {\n",
       "        text-align: right;\n",
       "    }\n",
       "</style>\n",
       "<table border=\"1\" class=\"dataframe\">\n",
       "  <thead>\n",
       "    <tr>\n",
       "      <th></th>\n",
       "      <th colspan=\"2\" halign=\"left\">sales_amount</th>\n",
       "      <th colspan=\"2\" halign=\"left\">unit_price</th>\n",
       "      <th colspan=\"2\" halign=\"left\">sales_value</th>\n",
       "    </tr>\n",
       "    <tr>\n",
       "      <th></th>\n",
       "      <th>sum</th>\n",
       "      <th>count</th>\n",
       "      <th>sum</th>\n",
       "      <th>count</th>\n",
       "      <th>sum</th>\n",
       "      <th>count</th>\n",
       "    </tr>\n",
       "    <tr>\n",
       "      <th>customerid</th>\n",
       "      <th></th>\n",
       "      <th></th>\n",
       "      <th></th>\n",
       "      <th></th>\n",
       "      <th></th>\n",
       "      <th></th>\n",
       "    </tr>\n",
       "  </thead>\n",
       "  <tbody>\n",
       "    <tr>\n",
       "      <th>7</th>\n",
       "      <td>10545</td>\n",
       "      <td>428</td>\n",
       "      <td>3775.9300</td>\n",
       "      <td>428</td>\n",
       "      <td>46405.2100</td>\n",
       "      <td>428</td>\n",
       "    </tr>\n",
       "    <tr>\n",
       "      <th>56</th>\n",
       "      <td>15219</td>\n",
       "      <td>398</td>\n",
       "      <td>1645.5500</td>\n",
       "      <td>398</td>\n",
       "      <td>45529.5300</td>\n",
       "      <td>398</td>\n",
       "    </tr>\n",
       "    <tr>\n",
       "      <th>5</th>\n",
       "      <td>15230</td>\n",
       "      <td>597</td>\n",
       "      <td>3493.4800</td>\n",
       "      <td>597</td>\n",
       "      <td>43731.9400</td>\n",
       "      <td>597</td>\n",
       "    </tr>\n",
       "    <tr>\n",
       "      <th>23</th>\n",
       "      <td>14437</td>\n",
       "      <td>535</td>\n",
       "      <td>3138.6200</td>\n",
       "      <td>535</td>\n",
       "      <td>41510.3500</td>\n",
       "      <td>535</td>\n",
       "    </tr>\n",
       "    <tr>\n",
       "      <th>12</th>\n",
       "      <td>15770</td>\n",
       "      <td>547</td>\n",
       "      <td>2754.7100</td>\n",
       "      <td>547</td>\n",
       "      <td>38755.9000</td>\n",
       "      <td>547</td>\n",
       "    </tr>\n",
       "    <tr>\n",
       "      <th>11</th>\n",
       "      <td>14091</td>\n",
       "      <td>590</td>\n",
       "      <td>4234.8900</td>\n",
       "      <td>590</td>\n",
       "      <td>37407.2900</td>\n",
       "      <td>590</td>\n",
       "    </tr>\n",
       "    <tr>\n",
       "      <th>64</th>\n",
       "      <td>11253</td>\n",
       "      <td>356</td>\n",
       "      <td>3381.4800</td>\n",
       "      <td>356</td>\n",
       "      <td>36969.7900</td>\n",
       "      <td>356</td>\n",
       "    </tr>\n",
       "    <tr>\n",
       "      <th>42</th>\n",
       "      <td>9007</td>\n",
       "      <td>208</td>\n",
       "      <td>1121.3900</td>\n",
       "      <td>208</td>\n",
       "      <td>32418.7800</td>\n",
       "      <td>208</td>\n",
       "    </tr>\n",
       "    <tr>\n",
       "      <th>18</th>\n",
       "      <td>15379</td>\n",
       "      <td>499</td>\n",
       "      <td>2276.6100</td>\n",
       "      <td>499</td>\n",
       "      <td>32398.0400</td>\n",
       "      <td>499</td>\n",
       "    </tr>\n",
       "    <tr>\n",
       "      <th>55</th>\n",
       "      <td>11181</td>\n",
       "      <td>330</td>\n",
       "      <td>3054.7000</td>\n",
       "      <td>330</td>\n",
       "      <td>32368.5400</td>\n",
       "      <td>330</td>\n",
       "    </tr>\n",
       "    <tr>\n",
       "      <th>95</th>\n",
       "      <td>11525</td>\n",
       "      <td>332</td>\n",
       "      <td>2885.9300</td>\n",
       "      <td>332</td>\n",
       "      <td>32030.3600</td>\n",
       "      <td>332</td>\n",
       "    </tr>\n",
       "    <tr>\n",
       "      <th>53</th>\n",
       "      <td>7814</td>\n",
       "      <td>224</td>\n",
       "      <td>1740.5100</td>\n",
       "      <td>224</td>\n",
       "      <td>31899.2200</td>\n",
       "      <td>224</td>\n",
       "    </tr>\n",
       "    <tr>\n",
       "      <th>61</th>\n",
       "      <td>12765</td>\n",
       "      <td>346</td>\n",
       "      <td>2266.1600</td>\n",
       "      <td>346</td>\n",
       "      <td>31429.0400</td>\n",
       "      <td>346</td>\n",
       "    </tr>\n",
       "    <tr>\n",
       "      <th>73</th>\n",
       "      <td>12274</td>\n",
       "      <td>458</td>\n",
       "      <td>2676.9500</td>\n",
       "      <td>458</td>\n",
       "      <td>28394.0900</td>\n",
       "      <td>458</td>\n",
       "    </tr>\n",
       "  </tbody>\n",
       "</table>\n",
       "</div>"
      ],
      "text/plain": [
       "           sales_amount       unit_price       sales_value      \n",
       "                    sum count        sum count         sum count\n",
       "customerid                                                      \n",
       "7                 10545   428  3775.9300   428  46405.2100   428\n",
       "56                15219   398  1645.5500   398  45529.5300   398\n",
       "5                 15230   597  3493.4800   597  43731.9400   597\n",
       "23                14437   535  3138.6200   535  41510.3500   535\n",
       "12                15770   547  2754.7100   547  38755.9000   547\n",
       "11                14091   590  4234.8900   590  37407.2900   590\n",
       "64                11253   356  3381.4800   356  36969.7900   356\n",
       "42                 9007   208  1121.3900   208  32418.7800   208\n",
       "18                15379   499  2276.6100   499  32398.0400   499\n",
       "55                11181   330  3054.7000   330  32368.5400   330\n",
       "95                11525   332  2885.9300   332  32030.3600   332\n",
       "53                 7814   224  1740.5100   224  31899.2200   224\n",
       "61                12765   346  2266.1600   346  31429.0400   346\n",
       "73                12274   458  2676.9500   458  28394.0900   458"
      ]
     },
     "execution_count": 27,
     "metadata": {},
     "output_type": "execute_result"
    }
   ],
   "source": [
    "df_st[~df_st.customerid.isin(competitor_cabinet_owned_customers)][['customerid','sales_amount', 'unit_price', 'sales_value']].groupby(by='customerid')\\\n",
    "                                                                                                                             .agg(['sum','count'])\\\n",
    "                                                                                                                             .sort_values(by=('sales_value','sum'), ascending=False)\\\n",
    "                                                                                                                             .head(len(competitor_cabinet_owned_customers))"
   ]
  },
  {
   "cell_type": "markdown",
   "metadata": {},
   "source": [
    "<h3><font color='gray'><b>time intervals</b></font></h3>"
   ]
  },
  {
   "cell_type": "code",
   "execution_count": 28,
   "metadata": {},
   "outputs": [
    {
     "data": {
      "text/plain": [
       "(Timestamp('2021-05-03 00:00:00'),\n",
       " Timestamp('2021-08-31 00:00:00'),\n",
       " Timedelta('120 days 00:00:00'))"
      ]
     },
     "execution_count": 28,
     "metadata": {},
     "output_type": "execute_result"
    }
   ],
   "source": [
    "df_vt.date.min(), df_vt.date.max(), df_vt.date.max() - df_vt.date.min()"
   ]
  },
  {
   "cell_type": "code",
   "execution_count": 29,
   "metadata": {},
   "outputs": [],
   "source": [
    "df_st['transaction_date'] =pd.to_datetime(df_st['transaction_date'])"
   ]
  },
  {
   "cell_type": "code",
   "execution_count": 30,
   "metadata": {},
   "outputs": [
    {
     "data": {
      "text/plain": [
       "(Timestamp('1970-01-01 00:00:00.000044319'),\n",
       " Timestamp('2021-08-31 00:00:00'),\n",
       " Timedelta('18869 days 23:59:59.999955681'))"
      ]
     },
     "execution_count": 30,
     "metadata": {},
     "output_type": "execute_result"
    }
   ],
   "source": [
    "df_st.transaction_date.min(), df_st.transaction_date.max(), df_st.transaction_date.max() - df_st.transaction_date.min()"
   ]
  },
  {
   "cell_type": "markdown",
   "metadata": {},
   "source": [
    "<h3><font color='yellow'><b>Feature Engineering</b></font></h3>"
   ]
  },
  {
   "cell_type": "markdown",
   "metadata": {},
   "source": [
    "<h3><font color='gray'><b>ds_st</b></font></h3>"
   ]
  },
  {
   "cell_type": "markdown",
   "metadata": {},
   "source": [
    "<h4><font color='lightgreen'><b>Which informations can be extracted?</b></font></h4>\n",
    "<li><font color='white'>?</font></li>"
   ]
  },
  {
   "cell_type": "code",
   "execution_count": null,
   "metadata": {},
   "outputs": [],
   "source": []
  },
  {
   "cell_type": "markdown",
   "metadata": {},
   "source": [
    "<h3><font color='gray'><b>ds_vt</b></font></h3>"
   ]
  },
  {
   "cell_type": "markdown",
   "metadata": {},
   "source": [
    "<h4><font color='lightgreen'><b>Which informations can be extracted?</b></font></h4>\n",
    "<li><font color='white'>total_visit of each customers</font></li>\n",
    "<li><font color='white'>visit_frequency of each customers</font></li>\n",
    "<li><font color='white'>first_and_last_visit_interval of each customers</font></li>"
   ]
  },
  {
   "cell_type": "code",
   "execution_count": 31,
   "metadata": {},
   "outputs": [
    {
     "data": {
      "text/html": [
       "<div>\n",
       "<style scoped>\n",
       "    .dataframe tbody tr th:only-of-type {\n",
       "        vertical-align: middle;\n",
       "    }\n",
       "\n",
       "    .dataframe tbody tr th {\n",
       "        vertical-align: top;\n",
       "    }\n",
       "\n",
       "    .dataframe thead th {\n",
       "        text-align: right;\n",
       "    }\n",
       "</style>\n",
       "<table border=\"1\" class=\"dataframe\">\n",
       "  <thead>\n",
       "    <tr style=\"text-align: right;\">\n",
       "      <th></th>\n",
       "      <th>customerid</th>\n",
       "      <th>date</th>\n",
       "    </tr>\n",
       "  </thead>\n",
       "  <tbody>\n",
       "    <tr>\n",
       "      <th>0</th>\n",
       "      <td>89</td>\n",
       "      <td>2021-05-05</td>\n",
       "    </tr>\n",
       "    <tr>\n",
       "      <th>1</th>\n",
       "      <td>15</td>\n",
       "      <td>2021-07-13</td>\n",
       "    </tr>\n",
       "    <tr>\n",
       "      <th>2</th>\n",
       "      <td>93</td>\n",
       "      <td>2021-08-10</td>\n",
       "    </tr>\n",
       "    <tr>\n",
       "      <th>3</th>\n",
       "      <td>41</td>\n",
       "      <td>2021-07-27</td>\n",
       "    </tr>\n",
       "    <tr>\n",
       "      <th>4</th>\n",
       "      <td>93</td>\n",
       "      <td>2021-05-20</td>\n",
       "    </tr>\n",
       "  </tbody>\n",
       "</table>\n",
       "</div>"
      ],
      "text/plain": [
       "   customerid       date\n",
       "0          89 2021-05-05\n",
       "1          15 2021-07-13\n",
       "2          93 2021-08-10\n",
       "3          41 2021-07-27\n",
       "4          93 2021-05-20"
      ]
     },
     "execution_count": 31,
     "metadata": {},
     "output_type": "execute_result"
    }
   ],
   "source": [
    "df_vt.head()"
   ]
  },
  {
   "cell_type": "code",
   "execution_count": 32,
   "metadata": {},
   "outputs": [
    {
     "data": {
      "text/html": [
       "<div>\n",
       "<style scoped>\n",
       "    .dataframe tbody tr th:only-of-type {\n",
       "        vertical-align: middle;\n",
       "    }\n",
       "\n",
       "    .dataframe tbody tr th {\n",
       "        vertical-align: top;\n",
       "    }\n",
       "\n",
       "    .dataframe thead th {\n",
       "        text-align: right;\n",
       "    }\n",
       "</style>\n",
       "<table border=\"1\" class=\"dataframe\">\n",
       "  <thead>\n",
       "    <tr style=\"text-align: right;\">\n",
       "      <th></th>\n",
       "      <th>customerid</th>\n",
       "      <th>date</th>\n",
       "    </tr>\n",
       "  </thead>\n",
       "  <tbody>\n",
       "    <tr>\n",
       "      <th>3065</th>\n",
       "      <td>42</td>\n",
       "      <td>2021-05-24</td>\n",
       "    </tr>\n",
       "    <tr>\n",
       "      <th>3066</th>\n",
       "      <td>71</td>\n",
       "      <td>2021-06-17</td>\n",
       "    </tr>\n",
       "    <tr>\n",
       "      <th>3067</th>\n",
       "      <td>60</td>\n",
       "      <td>2021-06-19</td>\n",
       "    </tr>\n",
       "    <tr>\n",
       "      <th>3068</th>\n",
       "      <td>51</td>\n",
       "      <td>2021-06-18</td>\n",
       "    </tr>\n",
       "    <tr>\n",
       "      <th>3069</th>\n",
       "      <td>51</td>\n",
       "      <td>2021-08-31</td>\n",
       "    </tr>\n",
       "  </tbody>\n",
       "</table>\n",
       "</div>"
      ],
      "text/plain": [
       "      customerid       date\n",
       "3065          42 2021-05-24\n",
       "3066          71 2021-06-17\n",
       "3067          60 2021-06-19\n",
       "3068          51 2021-06-18\n",
       "3069          51 2021-08-31"
      ]
     },
     "execution_count": 32,
     "metadata": {},
     "output_type": "execute_result"
    }
   ],
   "source": [
    "df_vt.tail()"
   ]
  },
  {
   "cell_type": "code",
   "execution_count": 33,
   "metadata": {},
   "outputs": [
    {
     "data": {
      "text/plain": [
       "(Timestamp('2021-05-03 00:00:00'),\n",
       " Timestamp('2021-08-31 00:00:00'),\n",
       " Timedelta('120 days 00:00:00'))"
      ]
     },
     "execution_count": 33,
     "metadata": {},
     "output_type": "execute_result"
    }
   ],
   "source": [
    "df_vt.date.min(), df_vt.date.max(), df_vt.date.max() - df_vt.date.min()"
   ]
  },
  {
   "cell_type": "code",
   "execution_count": 34,
   "metadata": {},
   "outputs": [],
   "source": [
    "# calculate total visit for each customer\n",
    "agg_counts = df_vt.groupby(by='customerid').agg({'date':'count'}).reset_index().rename(columns={'date': 'total_visit'})\n",
    "\n",
    "# add this feature into the df_ci\n",
    "df_ci = pd.merge(df_ci, agg_counts, on='customerid', how='left')"
   ]
  },
  {
   "cell_type": "code",
   "execution_count": 35,
   "metadata": {},
   "outputs": [
    {
     "data": {
      "text/html": [
       "<div>\n",
       "<style scoped>\n",
       "    .dataframe tbody tr th:only-of-type {\n",
       "        vertical-align: middle;\n",
       "    }\n",
       "\n",
       "    .dataframe tbody tr th {\n",
       "        vertical-align: top;\n",
       "    }\n",
       "\n",
       "    .dataframe thead th {\n",
       "        text-align: right;\n",
       "    }\n",
       "</style>\n",
       "<table border=\"1\" class=\"dataframe\">\n",
       "  <thead>\n",
       "    <tr style=\"text-align: right;\">\n",
       "      <th></th>\n",
       "      <th>customerid</th>\n",
       "      <th>date</th>\n",
       "    </tr>\n",
       "  </thead>\n",
       "  <tbody>\n",
       "    <tr>\n",
       "      <th>0</th>\n",
       "      <td>1</td>\n",
       "      <td>33</td>\n",
       "    </tr>\n",
       "    <tr>\n",
       "      <th>1</th>\n",
       "      <td>2</td>\n",
       "      <td>34</td>\n",
       "    </tr>\n",
       "    <tr>\n",
       "      <th>2</th>\n",
       "      <td>3</td>\n",
       "      <td>35</td>\n",
       "    </tr>\n",
       "    <tr>\n",
       "      <th>3</th>\n",
       "      <td>4</td>\n",
       "      <td>32</td>\n",
       "    </tr>\n",
       "    <tr>\n",
       "      <th>4</th>\n",
       "      <td>5</td>\n",
       "      <td>33</td>\n",
       "    </tr>\n",
       "    <tr>\n",
       "      <th>...</th>\n",
       "      <td>...</td>\n",
       "      <td>...</td>\n",
       "    </tr>\n",
       "    <tr>\n",
       "      <th>94</th>\n",
       "      <td>96</td>\n",
       "      <td>34</td>\n",
       "    </tr>\n",
       "    <tr>\n",
       "      <th>95</th>\n",
       "      <td>97</td>\n",
       "      <td>5</td>\n",
       "    </tr>\n",
       "    <tr>\n",
       "      <th>96</th>\n",
       "      <td>98</td>\n",
       "      <td>29</td>\n",
       "    </tr>\n",
       "    <tr>\n",
       "      <th>97</th>\n",
       "      <td>99</td>\n",
       "      <td>4</td>\n",
       "    </tr>\n",
       "    <tr>\n",
       "      <th>98</th>\n",
       "      <td>100</td>\n",
       "      <td>7</td>\n",
       "    </tr>\n",
       "  </tbody>\n",
       "</table>\n",
       "<p>99 rows × 2 columns</p>\n",
       "</div>"
      ],
      "text/plain": [
       "    customerid  date\n",
       "0            1    33\n",
       "1            2    34\n",
       "2            3    35\n",
       "3            4    32\n",
       "4            5    33\n",
       "..         ...   ...\n",
       "94          96    34\n",
       "95          97     5\n",
       "96          98    29\n",
       "97          99     4\n",
       "98         100     7\n",
       "\n",
       "[99 rows x 2 columns]"
      ]
     },
     "execution_count": 35,
     "metadata": {},
     "output_type": "execute_result"
    }
   ],
   "source": [
    "df_vt.groupby(by='customerid').agg({'date':'count'}).reset_index()"
   ]
  },
  {
   "cell_type": "code",
   "execution_count": 36,
   "metadata": {},
   "outputs": [],
   "source": [
    "agg_counts = df_vt.groupby(by='customerid').agg({'date':'count'}).reset_index().rename(columns={'date': 'total_visit'})\n",
    "df_ci = pd.merge(df_ci, agg_counts, on='customerid', how='left')"
   ]
  },
  {
   "cell_type": "markdown",
   "metadata": {},
   "source": [
    "<h3><font color='yellow'><b>Correlation Analysis</b></font></h3>"
   ]
  },
  {
   "cell_type": "code",
   "execution_count": null,
   "metadata": {},
   "outputs": [],
   "source": []
  },
  {
   "cell_type": "markdown",
   "metadata": {},
   "source": [
    "<h3><font color='yellow'><b>Handling Missing Values</b></font></h3>"
   ]
  },
  {
   "cell_type": "code",
   "execution_count": null,
   "metadata": {},
   "outputs": [],
   "source": []
  },
  {
   "cell_type": "markdown",
   "metadata": {},
   "source": [
    "<h3><font color='yellow'><b>Fixing Outliers</b></font></h3>"
   ]
  },
  {
   "cell_type": "code",
   "execution_count": null,
   "metadata": {},
   "outputs": [],
   "source": []
  }
 ],
 "metadata": {
  "kernelspec": {
   "display_name": ".venv",
   "language": "python",
   "name": "python3"
  },
  "language_info": {
   "codemirror_mode": {
    "name": "ipython",
    "version": 3
   },
   "file_extension": ".py",
   "mimetype": "text/x-python",
   "name": "python",
   "nbconvert_exporter": "python",
   "pygments_lexer": "ipython3",
   "version": "3.8.5"
  },
  "orig_nbformat": 4
 },
 "nbformat": 4,
 "nbformat_minor": 2
}
